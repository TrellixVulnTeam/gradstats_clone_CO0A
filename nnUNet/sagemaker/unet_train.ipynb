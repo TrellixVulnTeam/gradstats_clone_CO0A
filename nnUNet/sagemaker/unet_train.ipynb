{
 "cells": [
  {
   "cell_type": "markdown",
   "id": "0deca68d",
   "metadata": {},
   "source": [
    "## Unet 2D training using adascale in Sagemaker"
   ]
  },
  {
   "cell_type": "markdown",
   "id": "f406b94d",
   "metadata": {},
   "source": []
  },
  {
   "cell_type": "code",
   "execution_count": 29,
   "id": "d7f0cb91",
   "metadata": {},
   "outputs": [],
   "source": [
    "import sagemaker\n",
    "from sagemaker.pytorch import PyTorch\n",
    "from sagemaker.session import TrainingInput"
   ]
  },
  {
   "cell_type": "code",
   "execution_count": 30,
   "id": "f8d9e8fa",
   "metadata": {},
   "outputs": [],
   "source": [
    "# sagemaker utilities\n",
    "model_type = 'unet_2d'\n",
    "num_nodes = 1\n",
    "node_type = 'ml.p3.16xlarge'\n",
    "training_s3 = 's3://mzanur-autoscaler/benchmarking_datasets/MSD/preprocessed/01_2d'\n",
    "image_uri = '427566855058.dkr.ecr.us-east-1.amazonaws.com/unet:aws-unet'\n",
    "output_dir_s3_addr = f's3://yuliu-dev-east-gryffindor/unet_res'\n",
    "role = sagemaker.get_execution_role()\n",
    "sess = sagemaker.Session()"
   ]
  },
  {
   "cell_type": "code",
   "execution_count": 31,
   "id": "191db600",
   "metadata": {},
   "outputs": [],
   "source": [
    "# model hps    \n",
    "batch_size = 64 # batch size per gpu\n",
    "learning_rate = 0.001\n",
    "optimizer = 'adam' # ['adam', 'radam', 'sgd']\n",
    "\n",
    "# adascale hps\n",
    "enable_adascale = True\n",
    "lr_scale = 1.0\n",
    "enable_gns = False\n",
    "gns_smoothing = 0.0"
   ]
  },
  {
   "cell_type": "code",
   "execution_count": null,
   "id": "505360e4",
   "metadata": {},
   "outputs": [],
   "source": [
    "# model hypter parameters\n",
    "hyperparameters = {\"num_nodes\": num_nodes,\n",
    "                   \"learning_rate\": learning_rate,\n",
    "                   \"optimizer\": optimizer\n",
    "                  }\n",
    "global_batch_size = batch_size * num_nodes * 8 # 8 here is gpu numbers\n",
    "label = f\"unet2d-{num_nodes}nodes-bs{global_batch_size}-{optimizer}\"\n",
    "\n",
    "if enable_adascale:\n",
    "    hyperparameters[\"enable_adascale\"] = \"\",\n",
    "    hyperparameters[\"lr_scale\"] = lr_scale\n",
    "    label += f\"-adascale\"\n",
    "if enable_gns:\n",
    "    hyperparameters[\"enable_gns\"] = \"\"\n",
    "    hyperparameters[\"gns_smoothing\"] = gns_smoothing\n",
    "    label += f\"-gns\"\n",
    "    \n",
    "custome_label = \"-sanity-test\"\n",
    "label += custome_label"
   ]
  },
  {
   "cell_type": "code",
   "execution_count": 36,
   "id": "a8216d36",
   "metadata": {},
   "outputs": [],
   "source": [
    "estimator = PyTorch(base_job_name=label,\n",
    "                    source_dir=\"..\",\n",
    "                    entry_point=\"sagemaker/dist_train.py\",\n",
    "                    image_uri=image_uri,\n",
    "                    role=role,\n",
    "                    instance_count=num_nodes,\n",
    "                    instance_type=node_type,\n",
    "                    container_log_level=0,\n",
    "                    debugger_hook_config=False,\n",
    "                    hyperparameters=hyperparameters,\n",
    "                    volume_size=200,\n",
    "                    output_path=output_dir_s3_addr,\n",
    "                    sagemaker_session=sess,\n",
    "                    max_run=259200\n",
    "                    )\n",
    "train_input = TrainingInput(training_s3)"
   ]
  },
  {
   "cell_type": "code",
   "execution_count": null,
   "id": "5cfbdd33",
   "metadata": {},
   "outputs": [
    {
     "name": "stdout",
     "output_type": "stream",
     "text": [
      "2021-07-29 23:55:19 Starting - Starting the training job...\n",
      "2021-07-29 23:55:42 Starting - Launching requested ML instancesProfilerReport-1627602918: InProgress\n",
      ".........\n",
      "2021-07-29 23:57:16 Starting - Preparing the instances for training............\n",
      "2021-07-29 23:59:03 Downloading - Downloading input data............."
     ]
    }
   ],
   "source": [
    "estimator.fit({\"train\": train_input}, wait=True)"
   ]
  },
  {
   "cell_type": "code",
   "execution_count": null,
   "id": "c09c7caa",
   "metadata": {},
   "outputs": [],
   "source": []
  }
 ],
 "metadata": {
  "kernelspec": {
   "display_name": "conda_pytorch_latest_p36",
   "language": "python",
   "name": "conda_pytorch_latest_p36"
  },
  "language_info": {
   "codemirror_mode": {
    "name": "ipython",
    "version": 3
   },
   "file_extension": ".py",
   "mimetype": "text/x-python",
   "name": "python",
   "nbconvert_exporter": "python",
   "pygments_lexer": "ipython3",
   "version": "3.6.13"
  }
 },
 "nbformat": 4,
 "nbformat_minor": 5
}
